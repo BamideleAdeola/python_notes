{
 "cells": [
  {
   "cell_type": "markdown",
   "id": "421a147a",
   "metadata": {},
   "source": [
    "# How to Create Series in Python"
   ]
  },
  {
   "cell_type": "code",
   "execution_count": 1,
   "id": "7bb0c24e",
   "metadata": {},
   "outputs": [],
   "source": [
    "import pandas as pd   #import necessary library\n",
    "my_animals = ['goat','dog','cat','mouse']"
   ]
  },
  {
   "cell_type": "code",
   "execution_count": 3,
   "id": "e02c6dc0",
   "metadata": {},
   "outputs": [
    {
     "data": {
      "text/plain": [
       "0     goat\n",
       "1      dog\n",
       "2      cat\n",
       "3    mouse\n",
       "dtype: object"
      ]
     },
     "execution_count": 3,
     "metadata": {},
     "output_type": "execute_result"
    }
   ],
   "source": [
    "pd.Series(my_animals)  #converting my_animals to series"
   ]
  },
  {
   "cell_type": "code",
   "execution_count": 4,
   "id": "57ec983c",
   "metadata": {},
   "outputs": [
    {
     "data": {
      "text/plain": [
       "0     2\n",
       "1     8\n",
       "2     4\n",
       "3    10\n",
       "4    30\n",
       "5    16\n",
       "dtype: int64"
      ]
     },
     "execution_count": 4,
     "metadata": {},
     "output_type": "execute_result"
    }
   ],
   "source": [
    "even_no = [2,8,4,10,30,16]  #converting a list of even numbers to series\n",
    "pd.Series(even_no)"
   ]
  },
  {
   "cell_type": "code",
   "execution_count": 6,
   "id": "26c052ca",
   "metadata": {},
   "outputs": [
    {
     "data": {
      "text/plain": [
       "Work      Office\n",
       "Play     Stadium\n",
       "Study      Class\n",
       "dtype: object"
      ]
     },
     "execution_count": 6,
     "metadata": {},
     "output_type": "execute_result"
    }
   ],
   "source": [
    "# Converting a dictionary to series\n",
    "my_dict = {\"Work\":\"Office\",\"Play\":\"Stadium\",\"Study\":\"Class\"}\n",
    "pd.Series(my_dict)"
   ]
  },
  {
   "cell_type": "code",
   "execution_count": null,
   "id": "b3a8fe9b",
   "metadata": {},
   "outputs": [],
   "source": []
  },
  {
   "cell_type": "code",
   "execution_count": 5,
   "id": "5830b5a5",
   "metadata": {},
   "outputs": [
    {
     "data": {
      "text/plain": [
       "0    False\n",
       "1     True\n",
       "2     True\n",
       "3    False\n",
       "4    False\n",
       "5     True\n",
       "6    False\n",
       "7     True\n",
       "dtype: bool"
      ]
     },
     "execution_count": 5,
     "metadata": {},
     "output_type": "execute_result"
    }
   ],
   "source": [
    "# you can also convet a bolean list into series\n",
    "my_bol = [False,True, True,False, False, True, False, True]\n",
    "pd.Series(my_bol) #conert to series\n"
   ]
  },
  {
   "cell_type": "code",
   "execution_count": 7,
   "id": "71ce1000",
   "metadata": {},
   "outputs": [
    {
     "data": {
      "text/plain": [
       "0         Great\n",
       "1     Dedicated\n",
       "2    Industrous\n",
       "3    hospitable\n",
       "dtype: object"
      ]
     },
     "execution_count": 7,
     "metadata": {},
     "output_type": "execute_result"
    }
   ],
   "source": [
    "# Assigning a value to series\n",
    "my_life = [\"Great\",\"Dedicated\",\"Industrous\",\"hospitable\"]\n",
    "y = pd.Series(my_life) # assign the series to y\n",
    "y"
   ]
  },
  {
   "cell_type": "code",
   "execution_count": 8,
   "id": "d08ad665",
   "metadata": {},
   "outputs": [
    {
     "data": {
      "text/plain": [
       "array(['Great', 'Dedicated', 'Industrous', 'hospitable'], dtype=object)"
      ]
     },
     "execution_count": 8,
     "metadata": {},
     "output_type": "execute_result"
    }
   ],
   "source": [
    "y.values"
   ]
  },
  {
   "cell_type": "code",
   "execution_count": 9,
   "id": "59d7642f",
   "metadata": {},
   "outputs": [
    {
     "data": {
      "text/plain": [
       "RangeIndex(start=0, stop=4, step=1)"
      ]
     },
     "execution_count": 9,
     "metadata": {},
     "output_type": "execute_result"
    }
   ],
   "source": [
    "y.index"
   ]
  },
  {
   "cell_type": "code",
   "execution_count": 10,
   "id": "2816a7b6",
   "metadata": {},
   "outputs": [
    {
     "data": {
      "text/plain": [
       "dtype('O')"
      ]
     },
     "execution_count": 10,
     "metadata": {},
     "output_type": "execute_result"
    }
   ],
   "source": [
    "y.dtype"
   ]
  },
  {
   "cell_type": "code",
   "execution_count": null,
   "id": "38106632",
   "metadata": {},
   "outputs": [],
   "source": []
  },
  {
   "cell_type": "code",
   "execution_count": 15,
   "id": "00ab8f08",
   "metadata": {},
   "outputs": [
    {
     "data": {
      "text/plain": [
       "0    200.00\n",
       "1      8.60\n",
       "2      9.85\n",
       "dtype: float64"
      ]
     },
     "execution_count": 15,
     "metadata": {},
     "output_type": "execute_result"
    }
   ],
   "source": [
    "sales = [200,8.6,9.85]\n",
    "t = pd.Series(sales)\n",
    "t"
   ]
  },
  {
   "cell_type": "code",
   "execution_count": 16,
   "id": "e91a6b3b",
   "metadata": {},
   "outputs": [
    {
     "data": {
      "text/plain": [
       "218.45"
      ]
     },
     "execution_count": 16,
     "metadata": {},
     "output_type": "execute_result"
    }
   ],
   "source": [
    "t.sum()"
   ]
  },
  {
   "cell_type": "code",
   "execution_count": 17,
   "id": "3f95f3b0",
   "metadata": {},
   "outputs": [
    {
     "data": {
      "text/plain": [
       "72.81666666666666"
      ]
     },
     "execution_count": 17,
     "metadata": {},
     "output_type": "execute_result"
    }
   ],
   "source": [
    "# return the mean\n",
    "t.mean()"
   ]
  },
  {
   "cell_type": "code",
   "execution_count": 19,
   "id": "f403444b",
   "metadata": {},
   "outputs": [
    {
     "data": {
      "text/plain": [
       "9.85"
      ]
     },
     "execution_count": 19,
     "metadata": {},
     "output_type": "execute_result"
    }
   ],
   "source": [
    "# returns the median of the series\n",
    "t.median()"
   ]
  },
  {
   "cell_type": "code",
   "execution_count": null,
   "id": "9a9f5dbb",
   "metadata": {},
   "outputs": [],
   "source": []
  }
 ],
 "metadata": {
  "kernelspec": {
   "display_name": "Python 3 (ipykernel)",
   "language": "python",
   "name": "python3"
  },
  "language_info": {
   "codemirror_mode": {
    "name": "ipython",
    "version": 3
   },
   "file_extension": ".py",
   "mimetype": "text/x-python",
   "name": "python",
   "nbconvert_exporter": "python",
   "pygments_lexer": "ipython3",
   "version": "3.9.7"
  }
 },
 "nbformat": 4,
 "nbformat_minor": 5
}
